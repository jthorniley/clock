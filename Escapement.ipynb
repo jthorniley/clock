{
 "cells": [
  {
   "cell_type": "code",
   "execution_count": 11,
   "metadata": {},
   "outputs": [],
   "source": [
    "%matplotlib tk\n",
    "from clock.models import Pendulum\n",
    "from scipy.integrate import solve_ivp\n",
    "import numpy as np\n",
    "import matplotlib.pyplot as plt\n",
    "\n",
    "from typing import Sequence"
   ]
  },
  {
   "cell_type": "code",
   "execution_count": 372,
   "metadata": {},
   "outputs": [],
   "source": [
    "\n",
    "class PendulumWithEscapement(Pendulum):\n",
    "    def __call__(self, t: float, y: Sequence[float]):\n",
    "        sigma, dsigma = y\n",
    "        ddsigma = -self.k * dsigma - sigma + 0.5*np.tanh(sigma)*np.exp(-(sigma*dsigma-1)**2)\n",
    "        return [dsigma, ddsigma]"
   ]
  },
  {
   "cell_type": "code",
   "execution_count": 373,
   "metadata": {},
   "outputs": [],
   "source": [
    "p= PendulumWithEscapement(0.1)\n",
    "sol = p.solve([2, 0], 120*np.pi)"
   ]
  },
  {
   "cell_type": "code",
   "execution_count": 374,
   "metadata": {},
   "outputs": [
    {
     "data": {
      "text/plain": [
       "[<matplotlib.lines.Line2D at 0x7f121c2b8050>]"
      ]
     },
     "execution_count": 374,
     "metadata": {},
     "output_type": "execute_result"
    }
   ],
   "source": [
    "plt.plot(sol.t, sol.y[0])"
   ]
  },
  {
   "cell_type": "code",
   "execution_count": 229,
   "metadata": {},
   "outputs": [
    {
     "data": {
      "text/plain": [
       "<matplotlib.contour.QuadContourSet at 0x7f121e457a50>"
      ]
     },
     "execution_count": 229,
     "metadata": {},
     "output_type": "execute_result"
    }
   ],
   "source": [
    "\n",
    "sigma = np.linspace(-1, 1)\n",
    "dsigma = np.linspace(-1, 1)\n",
    "\n",
    "x,y = np.meshgrid(sigma, dsigma)\n",
    "\n",
    "plt.contourf(x, y, np.exp(-(x*y-1)**2))\n"
   ]
  },
  {
   "cell_type": "code",
   "execution_count": 314,
   "metadata": {},
   "outputs": [],
   "source": [
    "# This import registers the 3D projection, but is otherwise unused.\n",
    "from mpl_toolkits.mplot3d import Axes3D  # noqa: F401 unused import\n",
    "\n",
    "import matplotlib.pyplot as plt\n",
    "from matplotlib import cm\n",
    "from matplotlib.ticker import LinearLocator, FormatStrFormatter\n",
    "import numpy as np\n",
    "\n",
    "\n",
    "fig = plt.figure()\n",
    "ax = fig.gca(projection='3d')\n",
    "\n",
    "# Make data.\n",
    "Q=1.0\n",
    "sigma = np.linspace(-Q, Q, 500)\n",
    "dsigma = np.linspace(-Q, Q, 500)\n",
    "sigma, dsigma = np.meshgrid(sigma, dsigma)\n",
    "R = np.tanh(sigma)*np.exp(-(sigma*dsigma-2)**2)\n",
    "\n",
    "# Plot the surface.\n",
    "surf = ax.plot_surface(sigma, dsigma, R, cmap=cm.viridis,\n",
    "                       linewidth=0, antialiased=False)\n",
    "\n",
    "# Customize the z axis.\n",
    "ax.set_zlim(-1.01, 1.01)\n",
    "ax.zaxis.set_major_locator(LinearLocator(10))\n",
    "ax.zaxis.set_major_formatter(FormatStrFormatter('%.02f'))\n",
    "\n",
    "# Add a color bar which maps values to colors.\n",
    "fig.colorbar(surf, shrink=0.5, aspect=5)\n",
    "\n",
    "plt.show()"
   ]
  },
  {
   "cell_type": "code",
   "execution_count": 390,
   "metadata": {},
   "outputs": [
    {
     "data": {
      "text/plain": [
       "<matplotlib.quiver.Quiver at 0x7f121bd1dc90>"
      ]
     },
     "execution_count": 390,
     "metadata": {},
     "output_type": "execute_result"
    }
   ],
   "source": [
    "fig = plt.figure()\n",
    "\n",
    "Q= 2.5\n",
    "sigma = np.linspace(-Q, Q, 20)\n",
    "dsigma = np.linspace(-Q, Q, 20)\n",
    "sigma, dsigma = np.meshgrid(sigma, dsigma)\n",
    "R = 0.5*np.tanh(sigma)*np.exp(-(sigma*dsigma-1)**2)\n",
    "\n",
    "args = {\"width\": 0.001, \"headwidth\": 2}\n",
    "plt.quiver(sigma, dsigma, dsigma, -sigma - dsigma * 0.1 + R, color='blue', **args)\n",
    "plt.quiver(sigma, dsigma, dsigma, -sigma - dsigma * 0.1, color='red', **args)"
   ]
  },
  {
   "cell_type": "code",
   "execution_count": null,
   "metadata": {},
   "outputs": [],
   "source": []
  },
  {
   "cell_type": "code",
   "execution_count": null,
   "metadata": {},
   "outputs": [],
   "source": []
  }
 ],
 "metadata": {
  "kernelspec": {
   "display_name": "Python 3",
   "language": "python",
   "name": "python3"
  },
  "language_info": {
   "codemirror_mode": {
    "name": "ipython",
    "version": 3
   },
   "file_extension": ".py",
   "mimetype": "text/x-python",
   "name": "python",
   "nbconvert_exporter": "python",
   "pygments_lexer": "ipython3",
   "version": "3.7.5"
  }
 },
 "nbformat": 4,
 "nbformat_minor": 2
}
