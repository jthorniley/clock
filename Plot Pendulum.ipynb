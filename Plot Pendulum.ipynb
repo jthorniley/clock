{
 "cells": [
  {
   "cell_type": "code",
   "execution_count": 1,
   "metadata": {},
   "outputs": [],
   "source": [
    "\n",
    "%matplotlib tk\n",
    "import clock\n",
    "from clock import solve_ivp, pendulum\n",
    "import numpy as np\n",
    "import matplotlib.pyplot as plt\n",
    "import matplotlib\n",
    "from pathlib import Path"
   ]
  },
  {
   "cell_type": "code",
   "execution_count": 2,
   "metadata": {},
   "outputs": [],
   "source": [
    "def plot_pendulum():\n",
    "\n",
    "    def time_series_plot(init):\n",
    "        t = np.linspace(0, 4*np.pi, 500)\n",
    "        sol = solve_ivp(pendulum, (t[0], t[-1]), init, t_eval=t)\n",
    "\n",
    "        plt.plot(sol.t, sol.y[0,:], label=r'$\\theta$')\n",
    "        plt.plot(sol.t, sol.y[1,:], label=r'$\\dot{\\theta}$')\n",
    "\n",
    "    time_series_plot([2, 0])\n",
    "    plt.yticks(np.arange(-2, 3))\n",
    "    plt.xticks(np.arange(5) * np.pi, ['$0$', '$\\pi$', *[f'${x}\\pi$' for x in np.arange(2, 5)]])\n",
    "    plt.tick_params(which='both', left=False, bottom=False)\n",
    "    plt.legend()\n",
    "    plt.savefig('test.png', dpi=600, facecolor='white', bbox_inches='tight')\n"
   ]
  },
  {
   "cell_type": "code",
   "execution_count": 3,
   "metadata": {},
   "outputs": [],
   "source": [
    "matplotlib.style.use('ggplot')\n",
    "plot_pendulum()"
   ]
  },
  {
   "cell_type": "code",
   "execution_count": 81,
   "metadata": {},
   "outputs": [],
   "source": [
    "init=[0,0.7]\n",
    "t = np.linspace(0, 2*np.pi, 200)\n",
    "sol = solve_ivp(pendulum, (t[0], t[-1]), init, t_eval=t)"
   ]
  },
  {
   "cell_type": "code",
   "execution_count": 125,
   "metadata": {},
   "outputs": [],
   "source": [
    "from matplotlib import animation\n",
    "from matplotlib.lines import Line2D\n",
    "from matplotlib.patches import Circle, FancyArrow\n",
    "\n",
    "BGCOLOR = \"#e9f2cb\"\n",
    "\n",
    "fig, axes = plt.subplots(ncols=2)\n",
    "fig.tight_layout(pad=0)\n",
    "fig.set_size_inches(6,3)\n",
    "ax = axes[0]\n",
    "diagram = axes[1]\n",
    "\n",
    "\n",
    "\n",
    "pendulum = Pendulum(diagram)\n",
    "trajectory = Trajectory(ax, sol)\n",
    "\n",
    "def update(pos):\n",
    "    trajectory.set_marker(pos)\n",
    "    pendulum.theta = pos[0]\n",
    "            \n",
    "fig.set_facecolor(BGCOLOR)\n",
    "\n",
    "\n",
    "ani = animation.FuncAnimation(fig, update, trajectory, interval=20, blit=False)\n",
    "ani.save_count = (sol.y.shape[1])\n",
    "#ani.save('test.gif', writer='imagemagick', fps=50, dpi=100, savefig_kwargs=dict(facecolor=BGCOLOR))\n",
    "plt.show()"
   ]
  },
  {
   "cell_type": "code",
   "execution_count": 126,
   "metadata": {},
   "outputs": [],
   "source": [
    "import matplotlib.axes\n",
    "from typing import Any, Union, Iterable, Text\n",
    "\n",
    "class EqualAspectAxis:\n",
    "    \"\"\"Configures axis to be suitable for rendering.\n",
    "    \n",
    "    The output is rendered by creating patches directly.\n",
    "    To make this look nice, we want a specified set of\n",
    "    boundaries for the plotting area, an equal aspect\n",
    "    ratio (so things don't look stretched) and to remove\n",
    "    the axis labels / lines.\n",
    "    \"\"\"\n",
    "    def __init__(self, ax):\n",
    "        ax.axis((-1.5, 1.5, -1.5, 1.5))\n",
    "        ax.set_aspect('equal')\n",
    "        ax.set_axis_off()\n",
    "\n",
    "        \n",
    "class Pendulum(EqualAspectAxis):\n",
    "    \"\"\"Draws a pendulum onto a matplotlib axis.\n",
    "    \n",
    "    Examples:\n",
    "    \n",
    "        >>> fig, ax = plt.subplots()\n",
    "        >>> pendulum = Pendulum(ax)\n",
    "        >>> pendulum.theta = 0.1\n",
    "        >>> plt.show()\n",
    "        \n",
    "    Arguments:\n",
    "    \n",
    "        ax: Axis to be drawn on\n",
    "        color: \n",
    "            Color specification (hex, array etc as \n",
    "            accepted by matplotlib) for the pendulum.\n",
    "            \n",
    "    \"\"\"\n",
    "    def __init__(self, ax: matplotlib.axes.Axes, color: Union[Text, Iterable]='#f086dc'):\n",
    "        super().__init__(ax)\n",
    "        self.ax = ax\n",
    "        self.color = color\n",
    "        self._theta = 0.0\n",
    "        \n",
    "        self._bar = Line2D([0], [0], lw=5, color=self.color)\n",
    "        self._weight = Circle(xy=(0,0), radius=0.2, facecolor=self.color)\n",
    "        self.ax.add_line(self._bar)\n",
    "        self.ax.add_patch(self._weight)\n",
    "        \n",
    "    @property\n",
    "    def theta(self):\n",
    "        \"\"\"Angle of the pendulum.\"\"\"\n",
    "        return self._theta\n",
    "    \n",
    "    @theta.setter\n",
    "    def theta(self, value):\n",
    "        \"\"\"Set the pendulum angle.\"\"\"\n",
    "        self._theta = value\n",
    "        vector = np.array([\n",
    "            [0, 0],\n",
    "            [np.sin(self._theta), -np.cos(self._theta)]\n",
    "        ])\n",
    "        vector *= 1.5\n",
    "        vector[:,1] += 0.5\n",
    "        self._bar.set_xdata(vector[:,0])\n",
    "        self._bar.set_ydata(vector[:,1])\n",
    "        self._weight.set_center(vector[1,:])\n",
    "        \n",
    "        \n",
    "class Trajectory(EqualAspectAxis):\n",
    "    \"\"\"Draw the state space trajectory of the system.\n",
    "    \n",
    "    This renders a plot of the whole trajectory (as a line\n",
    "    plot) as well as a current position marker at the\n",
    "    given time t.\n",
    "    \n",
    "    Example:\n",
    "    \n",
    "        >>> # Obtain a solution object from solve_ivp\n",
    "        >>> solution = scipy.integrate.solve_ivp(...)\n",
    "        >>> fig, ax = plt.subplots()\n",
    "        >>> trajectory = Trajectory(ax, solution)\n",
    "        >>> # Set the marker to show the neupdatext position of the solution\n",
    "        >>> trajectory.step()\n",
    "        array([0.0, 0.9])\n",
    "        >>> plt.show()\n",
    "        \n",
    "    Arguments:\n",
    "    \n",
    "        ax: Axis to draw on\n",
    "        solution: Trajectory data to plot\n",
    "        \n",
    "    \"\"\"\n",
    "    \n",
    "    def __init__(self, ax: matplotlib.axes.Axes, solution: Any, \n",
    "                 color: Union[Text, Iterable]='#f086dc', radius: int = 0.1):\n",
    "        super().__init__(ax)\n",
    "        self.ax = ax\n",
    "        self.solution = solution\n",
    "        self.color = color\n",
    "        \n",
    "        # Add arrows to represent axis labels\n",
    "        xarrow = FancyArrow(-1.31, -1.3, 0.3, 0, width=0.02, edgecolor='k', facecolor='k')\n",
    "        ax.text(-0.8, -1.3, r'$\\theta$', fontsize='x-large', verticalalignment='center')\n",
    "        ax.add_patch(xarrow)\n",
    "\n",
    "        yarrow = FancyArrow(-1.3, -1.31, 0, 0.3, width=0.02, edgecolor='k', facecolor='k')\n",
    "        ax.text(-1.3, -0.8, r'$\\dot{\\theta}$', fontsize='x-large', horizontalalignment='center')\n",
    "        ax.add_patch(yarrow)\n",
    "        \n",
    "        # Add the marker to the axis\n",
    "        self._marker = Circle(xy=self.solution.y[:,0], radius=radius, facecolor=color)\n",
    "        ax.add_patch(self._marker)\n",
    "\n",
    "        ax.plot(sol.y[0,:], sol.y[1,:], color=color)\n",
    "\n",
    "    def __call__(self):\n",
    "        for y in self.solution.y.T[1:,:]:\n",
    "            yield y\n",
    "        \n",
    "    def set_marker(self, position):\n",
    "        self._marker.set_center(position)\n",
    "        "
   ]
  },
  {
   "cell_type": "code",
   "execution_count": 116,
   "metadata": {},
   "outputs": [
    {
     "data": {
      "text/plain": [
       "False"
      ]
     },
     "execution_count": 116,
     "metadata": {},
     "output_type": "execute_result"
    }
   ],
   "source": [
    "import matplotlib.axis\n",
    "isinstance(ax, matplotlib.axis.Axis)"
   ]
  },
  {
   "cell_type": "code",
   "execution_count": 112,
   "metadata": {},
   "outputs": [],
   "source": [
    "fix, ax = plt.subplots()\n",
    "p = Pendulum(ax)\n",
    "p.theta=0.1\n",
    "plt.show()"
   ]
  },
  {
   "cell_type": "code",
   "execution_count": 120,
   "metadata": {},
   "outputs": [
    {
     "data": {
      "text/plain": [
       "scipy.integrate._ivp.ivp.OdeResult"
      ]
     },
     "execution_count": 120,
     "metadata": {},
     "output_type": "execute_result"
    }
   ],
   "source": [
    "sol.__class__"
   ]
  },
  {
   "cell_type": "code",
   "execution_count": 118,
   "metadata": {},
   "outputs": [],
   "source": [
    "from scipy.integrate import OdeSolution"
   ]
  }
 ],
 "metadata": {
  "file_extension": ".py",
  "kernelspec": {
   "display_name": "Python 3",
   "language": "python",
   "name": "python3"
  },
  "language_info": {
   "codemirror_mode": {
    "name": "ipython",
    "version": 3
   },
   "file_extension": ".py",
   "mimetype": "text/x-python",
   "name": "python",
   "nbconvert_exporter": "python",
   "pygments_lexer": "ipython3",
   "version": "3.7.5"
  },
  "mimetype": "text/x-python",
  "name": "python",
  "npconvert_exporter": "python",
  "pygments_lexer": "ipython3",
  "version": 3
 },
 "nbformat": 4,
 "nbformat_minor": 2
}
